{
 "cells": [
  {
   "cell_type": "code",
   "execution_count": 4,
   "metadata": {},
   "outputs": [
    {
     "name": "stderr",
     "output_type": "stream",
     "text": [
      "c:\\Users\\jspar\\AppData\\Local\\Programs\\Python\\Python311\\Lib\\site-packages\\urllib3\\connectionpool.py:1099: InsecureRequestWarning: Unverified HTTPS request is being made to host 'brd.superproxy.io'. Adding certificate verification is strongly advised. See: https://urllib3.readthedocs.io/en/latest/advanced-usage.html#tls-warnings\n",
      "  warnings.warn(\n"
     ]
    },
    {
     "name": "stdout",
     "output_type": "stream",
     "text": [
      "<!DOCTYPE html><html lang=\"ko\"><head><meta charSet=\"utf-8\" /><meta name=\"viewport\" content=\"width=device-width, initial-scale=1.0, maximum-scale=1.0, user-scalable=0, viewport-fit=cover\" /><title>검색 - 컬리</title><meta name=\"description\" content=\"컬리에서 제공하는 모든 상품을 검색할 수 있어요.\" /><meta name=\"keywords\" content=\"다이어트, 식단, 닭가슴살, 요리, 치아바타, 레시피, 상차림, 다이어트음식, 이유식, 건강이유식, 뷰티, 화장품\" /><meta property=\"og:type\" content=\"website\" /><meta property=\"og:site_name\" content=\"컬리 - 마켓컬리/뷰티컬리\" /><meta property=\"og:title\" content=\"검색 - 컬리\" /><meta property=\"og:description\" content=\"컬리에서 제공하는 모든 상품을 검색할 수 있어요.\" /><meta property=\"og:image\" content=\"https://res.kurly.com/images/marketkurly/logo/logo_sns_marketkurly.jpg\" /><meta property=\"og:url\" content=\"https://www.kurly.com/search\" /><meta property=\"twitter:card\" content=\"summary\" /><meta property=\"twitter:title\" content=\"검색 - 컬리\" /><meta property=\"twitter:description\" content=\"컬리에서 제공하는 모든 상품을 검색할 수 있어요.\" /><meta property=\"twitter:image\" content=\"https://res.kurly.com/images/marketkurly/logo/logo_sns_marketkurly.jpg\" /><meta property=\"twitter:url\" content=\"https://www.kurly.com/search\" /><link rel=\"canonical\" href=\"https://www.kurly.com/search\" /><script type=\"application/ld+json\">{\"@context\":\"https://schema.org\",\"@id\":\"https://www.kurly.com\",\"@type\":\"Organization\",\"name\":\"Kurly\",\"url\":\"https://www.kurly.com\",\"logo\":\"https://res.kurly.com/images/marketkurly/logo/logo_x3.png\",\"contactPoint\":[{\"@type\":\"ContactPoint\",\"telephone\":\"+82-1644-1107\",\"contactType\":\"customer support\",\"areaServed\":\"KR\",\"availableLanguage\":[\"KO\"]}],\"sameAs\":[\"https://www.instagram.com/marketkurly\",\"https://www.youtube.com/channel/UCfpdjL5pl-1qKT7Xp4UQzQg\",\"https://ko-kr.facebook.com/marketkurly\",\"https://blog.naver.com/marketkurly\",\"https://twitter.com/marketkurly\",\"https://apps.apple.com/kr/app/id1080244833\",\"https://play.google.com/store/apps/details?id=com.dbs.kurly.m2\",\"https://www.youtube.com/channel/UCWaWvDRyhmSKOQWah7t7wuA\"]}</script><script type=\"application/ld+json\">{\"@context\":\"https://schema.org\",\"@type\":\"WebSite\",\"url\":\"https://www.kurly.com/main\",\"potentialAction\":{\"@type\":\"SearchAction\",\"target\":{\"@type\":\"EntryPoint\",\"urlTemplate\":\"https://www.kurly.com/search?sword={search_term_string}&ref=site_search\"},\"query-input\":\"required name=search_term_string\"}}</script><meta name=\"next-head-count\" content=\"19\" /><meta charSet=\"utf-8\" /><meta http-equiv=\"X-UA-Compatible\" content=\"IE=edge\" /><meta name=\"application-name\" content=\"컬리\" /><meta name=\"referrer\" content=\"no-referrer-when-downgrade\" /><meta name=\"format-detection\" content=\"telephone=no\" /><link rel=\"shortcut icon\" href=\"https://res.kurly.com/favicon.ico\" /><link rel=\"icon\" href=\"https://res.kurly.com/favicon.ico\" /><link rel=\"icon\" type=\"image/png\" sizes=\"16x16\" href=\"https://res.kurly.com/icons/favicon-16x16.png\" /><link rel=\"icon\" type=\"image/png\" sizes=\"32x32\" href=\"https://res.kurly.com/icons/favicon-32x32.png\" /><link rel=\"apple-touch-icon\" sizes=\"128x128\" href=\"https://res.kurly.com/icons/favicon-128x128.png\" /><link rel=\"apple-touch-icon\" sizes=\"144x144\" href=\"https://res.kurly.com/icons/favicon-144x144.png\" /><link rel=\"apple-touch-icon\" sizes=\"152x152\" href=\"https://res.kurly.com/icons/favicon-152x152.png\" /><link rel=\"apple-touch-icon\" sizes=\"167x167\" href=\"https://res.kurly.com/icons/favicon-167x167.png\" /><link rel=\"apple-touch-icon\" sizes=\"180x180\" href=\"https://res.kurly.com/icons/favicon-180x180.png\" /><link rel=\"apple-touch-icon\" sizes=\"192x192\" href=\"https://res.kurly.com/icons/favicon-192x192.png\" /><link rel=\"apple-touch-startup-image\" media=\"(device-width: 320px) and (device-height: 568px) and (-webkit-device-pixel-ratio: 2)\" href=\"https://res.kurly.com/images/splashs/iphone5_splash.png\" /><link rel=\"apple-touch-startup-image\" media=\"(device-width: 375px) and (device-height: 667px) and (-webkit-device-pixel-ratio: 2)\" href=\"https://res.kurly.com/images/splashs/iphone6_splash.png\" /><link rel=\"apple-touch-startup-image\" media=\"(device-width: 621px) and (device-height: 1104px) and (-webkit-device-pixel-ratio: 3)\" href=\"https://res.kurly.com/images/splashs/iphoneplus_splash.png\" /><link rel=\"apple-touch-startup-image\" media=\"(device-width: 375px) and (device-height: 812px) and (-webkit-device-pixel-ratio: 3)\" href=\"https://res.kurly.com/images/splashs/iphonex_splash.png\" /><link rel=\"apple-touch-startup-image\" media=\"(device-width: 414px) and (device-height: 896px) and (-webkit-device-pixel-ratio: 2)\" href=\"https://res.kurly.com/images/splashs/iphonexr_splash.png\" /><link rel=\"apple-touch-startup-image\" media=\"(device-width: 414px) and (device-height: 896px) and (-webkit-device-pixel-ratio: 3)\" href=\"https://res.kurly.com/images/splashs/iphonexsmax_splash.png\" /><link rel=\"apple-touch-startup-image\" media=\"(device-width: 768px) and (device-height: 1024px) and (-webkit-device-pixel-ratio: 2)\" href=\"https://res.kurly.com/images/splashs/ipad_splash.png\" /><link rel=\"apple-touch-startup-image\" media=\"(device-width: 834px) and (device-height: 1112px) and (-webkit-device-pixel-ratio: 2)\" href=\"https://res.kurly.com/images/splashs/ipadpro1_splash.png\" /><link rel=\"apple-touch-startup-image\" media=\"(device-width: 834px) and (device-height: 1194px) and (-webkit-device-pixel-ratio: 2)\" href=\"https://res.kurly.com/images/splashs/ipadpro3_splash.png\" /><link rel=\"apple-touch-startup-image\" media=\"(device-width: 1024px) and (device-height: 1366px) and (-webkit-device-pixel-ratio: 2)\" href=\"https://res.kurly.com/images/splashs/ipadpro2_splash.png\" /><meta name=\"mobile-web-app-capable\" content=\"yes\" /><meta name=\"apple-mobile-web-app-capable\" content=\"yes\" /><meta name=\"apple-mobile-web-app-title\" content=\"컬리\" /><meta name=\"msapplication-TileColor\" content=\"#ffffff\" /><meta name=\"msapplication-tap-highlight\" content=\"no\" /><link rel=\"manifest\" href=\"/manifest.json\" /><link rel=\"preload\" href=\"https://res.kurly.com/_next/static/css/d59287ec5b86dc49.css\" as=\"style\" /><link rel=\"stylesheet\" href=\"https://res.kurly.com/_next/static/css/d59287ec5b86dc49.css\" data-n-g /><noscript data-n-css></noscript><script defer nomodule src=\"https://res.kurly.com/_next/static/chunks/polyfills-5cd94c89d3acac5f.js\"></script><script src=\"https://res.kurly.com/_next/static/chunks/webpack-9a046e6028963528.js\" defer></script><script src=\"https://res.kurly.com/_next/static/chunks/framework-f8115f7fae64930e.js\" defer></script><script src=\"https://res.kurly.com/_next/static/chunks/main-849da2e2e3898e8b.js\" defer></script><script src=\"https://res.kurly.com/_next/static/chunks/pages/_app-26389a59048884cb.js\" defer></script><script src=\"https://res.kurly.com/_next/static/chunks/49089-9b005c12d23d9836.js\" defer></script><script src=\"https://res.kurly.com/_next/static/chunks/78359-54f29aae1d7b3216.js\" defer></script><script src=\"https://res.kurly.com/_next/static/chunks/59192-23c01ad8f182b115.js\" defer></script><script src=\"https://res.kurly.com/_next/static/chunks/70777-ab1352eaa486e162.js\" defer></script><script src=\"https://res.kurly.com/_next/static/chunks/46353-bb0445be35c19acf.js\" defer></script><script src=\"https://res.kurly.com/_next/static/chunks/68455-4e7fac1251dff4f9.js\" defer></script><script src=\"https://res.kurly.com/_next/static/chunks/25675-77b2c4f366a45891.js\" defer></script><script src=\"https://res.kurly.com/_next/static/chunks/56269-42c32452ccee5939.js\" defer></script><script src=\"https://res.kurly.com/_next/static/chunks/66261-8613f356f0226ebe.js\" defer></script><script src=\"https://res.kurly.com/_next/static/chunks/85665-1f7bafa1b8737b98.js\" defer></script><script src=\"https://res.kurly.com/_next/static/chunks/23335-d0507122b83dfd9e.js\" defer></script><script src=\"https://res.kurly.com/_next/static/chunks/96230-491a1734525f3fb4.js\" defer></script><script src=\"https://res.kurly.com/_next/static/chunks/51855-466e9f428c8a41e2.js\" defer></script><script src=\"https://res.kurly.com/_next/static/chunks/79716-f0b472de648ad354.js\" defer></script><script src=\"https://res.kurly.com/_next/static/chunks/31565-07b92f474d659609.js\" defer></script><script src=\"https://res.kurly.com/_next/static/chunks/73207-6ea084cfc421dd51.js\" defer></script><script src=\"https://res.kurly.com/_next/static/chunks/50463-06cc174fb3db96a2.js\" defer></script><script src=\"https://res.kurly.com/_next/static/chunks/33851-198a9a15be3f4429.js\" defer></script><script src=\"https://res.kurly.com/_next/static/chunks/2081-762b6c93117b72de.js\" defer></script><script src=\"https://res.kurly.com/_next/static/chunks/59812-abd8e2f0d977eef7.js\" defer></script><script src=\"https://res.kurly.com/_next/static/chunks/70316-2c0b9aa796bb6b1c.js\" defer></script><script src=\"https://res.kurly.com/_next/static/chunks/61486-a99a949a0117e724.js\" defer></script><script src=\"https://res.kurly.com/_next/static/chunks/27480-7ff27a8adfce6190.js\" defer></script><script src=\"https://res.kurly.com/_next/static/chunks/24368-382f98ab4fbdabdc.js\" defer></script><script src=\"https://res.kurly.com/_next/static/chunks/85371-3da7eef7b0a6aa4b.js\" defer></script><script src=\"https://res.kurly.com/_next/static/chunks/95202-97a35a85a30410a4.js\" defer></script><script src=\"https://res.kurly.com/_next/static/chunks/98826-1a6179d3111cf18e.js\" defer></script><script src=\"https://res.kurly.com/_next/static/chunks/41756-10e4a8cf0d8d07b4.js\" defer></script><script src=\"https://res.kurly.com/_next/static/chunks/57306-d3bcc64e5f647f6d.js\" defer></script><script src=\"https://res.kurly.com/_next/static/chunks/71157-f07a7ebcc552fb54.js\" defer></script><script src=\"https://res.kurly.com/_next/static/chunks/82389-f0a244f83606f75f.js\" defer></script><script src=\"https://res.kurly.com/_next/static/chunks/pages/search-74abee54fcde99ae.js\" defer></script><script src=\"https://res.kurly.com/_next/static/eW1gSCTjh20Kk9yZNYkpW/_buildManifest.js\" defer></script><script src=\"https://res.kurly.com/_next/static/eW1gSCTjh20Kk9yZNYkpW/_ssgManifest.js\" defer></script><script src=\"https://res.kurly.com/_next/static/eW1gSCTjh20Kk9yZNYkpW/_middlewareManifest.js\" defer></script></head><body><div id=\"__next\" data-reactroot></div><script id=\"__NEXT_DATA__\" type=\"application/json\">{\"props\":{\"pageProps\":{}},\"page\":\"/search\",\"query\":{},\"buildId\":\"eW1gSCTjh20Kk9yZNYkpW\",\"assetPrefix\":\"https://res.kurly.com\",\"nextExport\":true,\"autoExport\":true,\"isFallback\":false,\"scriptLoader\":[]}</script></body></html>\n",
      "[]\n"
     ]
    }
   ],
   "source": [
    "\n",
    "import requests\n",
    "from bs4 import BeautifulSoup\n",
    "data_list = []\n",
    "host = \"brd.superproxy.io:22225\"\n",
    "user_name = \"brd-customer-hl_3250c65a-zone-unblocker\"\n",
    "password = \"keckdpm31tj0\"\n",
    "\n",
    "proxy_url = f\"https://{user_name}:{password}@{host}\"\n",
    "\n",
    "proxies = {\"http\":proxy_url,\"https\":proxy_url}\n",
    "kwds = \"양파\"\n",
    "url =  f\"https://www.kurly.com/search?sword={kwds}\"\n",
    "try:\n",
    "    response = requests.get(url,proxies=proxies,verify=False)\n",
    "except: print(\"err\")\n",
    "html = response.text\n",
    "print(html)\n",
    "soup = BeautifulSoup(html, \"html.parser\")\n",
    "\n",
    "items = soup.select(\".e1c07x4813\")\n",
    "print(items)\n",
    "for item in items:\n",
    "    name = item.select_one(\".e1c07x488\").text\n",
    "    price = item.select_one(\".sales-price\").text\n",
    "    if not price:\n",
    "        continue\n",
    "    dimmed_price = item.select_one(\".dimmed-price\").text\n",
    "    if not dimmed_price:\n",
    "        dimmed_price=\"\"\n",
    "    #TODO couponprice 추가\n",
    "    link = item.a['href']\n",
    "    rating_num = item.select_one(\".review-number\").text\n",
    "    rating_num =''.join(filter(str.isdigit, rating_num))\n",
    "    if int(rating_num) < 30:\n",
    "        continue\n",
    "            \n",
    "    data = {\n",
    "                \"name\": name,\n",
    "                \"price\": price,\n",
    "                \"dimmed_price\":dimmed_price,\n",
    "                \"rating_num\": rating_num,\n",
    "                \"link\": link}\n",
    "    data_list.append(data)\n",
    "\n",
    "\n"
   ]
  },
  {
   "cell_type": "code",
   "execution_count": null,
   "metadata": {},
   "outputs": [],
   "source": []
  }
 ],
 "metadata": {
  "kernelspec": {
   "display_name": "Python 3",
   "language": "python",
   "name": "python3"
  },
  "language_info": {
   "codemirror_mode": {
    "name": "ipython",
    "version": 3
   },
   "file_extension": ".py",
   "mimetype": "text/x-python",
   "name": "python",
   "nbconvert_exporter": "python",
   "pygments_lexer": "ipython3",
   "version": "3.11.6"
  }
 },
 "nbformat": 4,
 "nbformat_minor": 2
}
