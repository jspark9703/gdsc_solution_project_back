{
 "cells": [
  {
   "cell_type": "code",
   "execution_count": 24,
   "metadata": {},
   "outputs": [],
   "source": [
    "from langchain.prompts.chat import (ChatPromptTemplate,\n",
    "                                    HumanMessagePromptTemplate,\n",
    "                                    SystemMessagePromptTemplate)\n",
    "from langchain.schema import HumanMessage,AIMessage,SystemMessage\n",
    "from langchain_core.runnables import RunnablePassthrough, RunnableSequence\n",
    "from langchain.chat_models import ChatOpenAI\n",
    "from pydantic import BaseModel\n",
    "\n",
    "from credential.credential import OPENAI_API_KEY\n",
    "\n",
    "llm = ChatOpenAI(temperature=0, openai_api_key=OPENAI_API_KEY)\n"
   ]
  },
  {
   "cell_type": "code",
   "execution_count": 46,
   "metadata": {},
   "outputs": [],
   "source": [
    "\n",
    "\n",
    "chat_template = ChatPromptTemplate.from_messages( [\n",
    "    SystemMessage(\n",
    "        content = '''\n",
    "        당신은 식품 관련 상품 리뷰 요약 프로그램입니다. 아래의  user ,context, ||로 구분된 review list를 참고하여 전체 리뷰들를 장점과 단점을 잘 파악하여 하나의 리뷰로 요약해주세요.\n",
    "        \n",
    "        user의 내용은 구매자의 건강 상태 또는 구매자의 희망 사항 입니다\n",
    "        context의 내용은 구매자가 생각하는 상품의 중요사항 입니다.\n",
    "        \n",
    "        요약할 때 리뷰들의 구체적인 내용과 예시를 추가하여 구매자가 충분히 납득할 수있게 설명하세요\n",
    "        \n",
    "        user: {userinfo}\n",
    "        context: {context}\n",
    "        \n",
    "\n",
    "        답변 형식:\n",
    "            장점:\n",
    "\n",
    "            단점:\n",
    "    \n",
    "            종합 리뷰:\n",
    "    \n",
    "        '''\n",
    "    ),\n",
    "    HumanMessage(\n",
    "        content=\" review list:{review_list}\"),\n",
    "])\n",
    "\n",
    "userinfo = \"매운 걸 안좋아함, 시각 장애인\"\n",
    "context = \"맛, 조리방법의 간단함, 양과 실용성, 제품의 신선도, 원재료 생산지 \"\n",
    "review_list =\"저랑 와이프가 팔당 오징어볶음 무척 좋아합니다.\\n쿠팡에 이런 상품이 있는걸 발견해서 일단 바로 주문했습니다.\\n금요일 주문해서 수요일 도착한다는거 화요일 퇴근하고오니 도착해있었습니다. 역시 배송 착합니다.\\n\\n● 맛평가\\n첫번째. 우선 가장 중요한 맵기 정도는 원조 대비 비슷하거나 다소 약합니다. 그러나 집에서 먹기 나쁘지 않은 수준이라 판단 됨.\\n저 같은 경우 매운음식에 취약해서(맵찔이) 땀 엄청 흘리며 먹음.\\n\\n두번째. 다른 분들 리뷰를 보니 니맛도 내맛도 아니다라는 평이 있는데 감칠맛?이 부족해서 매운맛만 느껴져 2% 부족함.\\n다행히도 저희는 원조 팔당오징어 경험이 있어 농심 멸치칼국수 라면을 같이 먹었는데\\n라면국물을 몇 숟갈 소스에 첨가하였더니 감칠맛이 살아서 제법 맛있게 즐길수 있었습니다.\\n\\n세번째. 조리법이 간단해 중불에 5분간 볶아서 먹으라고 되어있는데 개인차가 있겠지만 시간이 좀 더 걸리더라도 몸통, 다리 가능한 제대로 익혀서 드시는게 더 맛있게 느껴지는것 같네요. 통 오징어라서 몸통만 신경썼더니 다리는 덜 익어서 좀 별로였어요.\\n\\n최종적으로는 너무 맛있게 잘 먹었습니다. 왠만하면 이런 리뷰 안쓰는데 조금만 개선하면 좋은 상품이 될 수 있을것 같아서 리뷰를 남깁니다. 조금 만 더 신경써주시면 많은 분들이 요즘 같은 시대에 집에서 외식하는 느낌으로 즐길 수 있겠어요!! 읽어주셔서 감사합니다.||너무 맛있어요!\\n먹어보고 주위에 영업성공만 세 곳\\n그 중 두곳이 재주문!!!\\n맵긴한데 콩나물 팽이버섯 양파 파 떡국떡까지 넣고 먹다가\\n차돌박이 추가!!\\n남은거엔 밥+김가루+참기름으로 진짜 남기는거 없이 싸악 다 먹었어요..\\n왜 이제 알았나 후회ㅠㅠ\\n오징어도 통으로 들어가있어서 일단 뜯으면서부터 감탄!!\\n거기다 보들보들해서 질기지도않고 최고네요!||첨 시켜 봤는데~ 맛있네여 딱~ 제 입맛..\\n요즘 오징어도 비싼데 두마리 정도 들어있구여 통으로 들어있네여~ 저는 야채 넣고 볶아서 먹었는데 맵고 맛있어여~~ 저도 한 매움 하는데. 먹으면서 쓰읍~~ 소리 계속 냈습니다~~ 또 시킬께여~^||진짜 핵매움. 근데 맛있음. 맛있는 매운맛임. 야채넣고 먹으니깐 진짜 맛있음. 또 구매의사있음\"\n",
    "\n",
    "chain =  chat_template  |llm\n",
    "\n",
    "q= chain.invoke({\"userinfo\":userinfo,\"context\":context, \"review_list\":review_list})"
   ]
  },
  {
   "cell_type": "code",
   "execution_count": 47,
   "metadata": {},
   "outputs": [
    {
     "data": {
      "text/plain": [
       "'장점:\\n- 상품의 맛이 매우 좋다는 평가가 많습니다. 다양한 맛과 풍미를 제공하여 구매자의 입맛을 충족시킬 수 있습니다.\\n- 상품의 품질이 우수하다는 의견이 많습니다. 신선한 재료를 사용하고 깔끔한 제조 과정을 거쳐 만들어져서 안전하고 맛있는 제품을 제공합니다.\\n- 다양한 영양소를 함유하고 있어 건강에 좋다는 평가가 많습니다. 구매자의 건강을 고려한 제품으로, 영양소가 풍부하게 함유되어 있습니다.\\n\\n단점:\\n- 가격이 다소 비싸다는 의견이 있습니다. 고품질의 재료와 제조 과정에 비용이 들어가기 때문에 가격이 상대적으로 높을 수 있습니다.\\n- 일부 구매자는 포장이 다소 불편하다고 느낄 수 있습니다. 상품의 크기나 형태에 따라 포장이 다소 불편할 수 있으며, 개별 포장이 아닌 일부 상품은 개봉 후 보관이 어려울 수 있습니다.\\n\\n종합 리뷰:\\n이 상품은 맛과 품질이 우수하며, 건강에 좋은 다양한 영양소를 함유하고 있습니다. 다양한 맛과 풍미를 제공하여 구매자의 입맛을 충족시킬 수 있습니다. 하지만 가격이 다소 비싸고, 포장이 다소 불편할 수 있습니다. 그러나 고품질의 제품을 원하고 건강을 중요시하는 구매자에게는 추천할 만한 상품입니다.'"
      ]
     },
     "execution_count": 47,
     "metadata": {},
     "output_type": "execute_result"
    }
   ],
   "source": [
    "q.content"
   ]
  },
  {
   "cell_type": "code",
   "execution_count": 1,
   "metadata": {},
   "outputs": [
    {
     "data": {
      "text/plain": [
       "'0.0.332'"
      ]
     },
     "execution_count": 1,
     "metadata": {},
     "output_type": "execute_result"
    }
   ],
   "source": [
    "import langchain\n",
    "langchain.__version__ \n",
    "\n"
   ]
  },
  {
   "cell_type": "code",
   "execution_count": null,
   "metadata": {},
   "outputs": [],
   "source": []
  }
 ],
 "metadata": {
  "kernelspec": {
   "display_name": "Python 3",
   "language": "python",
   "name": "python3"
  },
  "language_info": {
   "codemirror_mode": {
    "name": "ipython",
    "version": 3
   },
   "file_extension": ".py",
   "mimetype": "text/x-python",
   "name": "python",
   "nbconvert_exporter": "python",
   "pygments_lexer": "ipython3",
   "version": "3.11.6"
  }
 },
 "nbformat": 4,
 "nbformat_minor": 2
}
